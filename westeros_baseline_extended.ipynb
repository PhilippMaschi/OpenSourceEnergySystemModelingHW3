{
 "cells": [
  {
   "cell_type": "markdown",
   "metadata": {
    "pycharm": {
     "name": "#%% md\n"
    },
    "slideshow": {
     "slide_type": "slide"
    }
   },
   "source": [
    "## 3rd Homework assignment OpenSourceEnergySytemModeling\n",
    "\n",
    "by Philipp Mascherbauer"
   ]
  },
  {
   "cell_type": "markdown",
   "metadata": {
    "pycharm": {
     "name": "#%% md\n"
    }
   },
   "source": [
    "This Jupiter Notebook is an extended version of the westeros_baseline scenario for the MESSAGEix model [1]: "
   ]
  },
  {
   "cell_type": "code",
   "execution_count": 2768,
   "metadata": {
    "pycharm": {
     "name": "#%%\n"
    },
    "slideshow": {
     "slide_type": "fragment"
    }
   },
   "outputs": [],
   "source": [
    "import pandas as pd\n",
    "import ixmp\n",
    "import message_ix\n",
    "\n",
    "from message_ix.reporting import Reporter\n",
    "from message_ix.util.tutorial import prepare_plots\n",
    "from message_ix.utils import make_df\n",
    "\n",
    "%matplotlib inline"
   ]
  },
  {
   "cell_type": "code",
   "execution_count": 2770,
   "metadata": {
    "pycharm": {
     "name": "#%%\n"
    },
    "slideshow": {
     "slide_type": "fragment"
    }
   },
   "outputs": [],
   "source": [
    "mp = ixmp.Platform()"
   ]
  },
  {
   "cell_type": "code",
   "execution_count": 2771,
   "metadata": {
    "pycharm": {
     "name": "#%%\n"
    },
    "slideshow": {
     "slide_type": "fragment"
    }
   },
   "outputs": [],
   "source": [
    "scenario = message_ix.Scenario(\n",
    "    mp, model=\"Westeros Electrified\", scenario=\"baseline\", version=\"new\"\n",
    ")"
   ]
  },
  {
   "cell_type": "code",
   "execution_count": 2772,
   "metadata": {
    "pycharm": {
     "name": "#%%\n"
    },
    "slideshow": {
     "slide_type": "fragment"
    }
   },
   "outputs": [],
   "source": [
    "history = [690]\n",
    "model_horizon = [700, 710, 720]\n",
    "scenario.add_horizon(year=history + model_horizon, firstmodelyear=model_horizon[0])"
   ]
  },
  {
   "cell_type": "code",
   "execution_count": 2773,
   "metadata": {
    "pycharm": {
     "name": "#%%\n"
    },
    "slideshow": {
     "slide_type": "fragment"
    }
   },
   "outputs": [],
   "source": [
    "country = \"Westeros\"\n",
    "scenario.add_spatial_sets({\"country\": country})"
   ]
  },
  {
   "cell_type": "markdown",
   "metadata": {
    "pycharm": {
     "name": "#%% md\n"
    }
   },
   "source": [
    "## 1) adding the LED to the scenario set and show that the model result does not change:"
   ]
  },
  {
   "cell_type": "code",
   "execution_count": 2774,
   "metadata": {
    "pycharm": {
     "name": "#%%\n"
    },
    "slideshow": {
     "slide_type": "fragment"
    }
   },
   "outputs": [],
   "source": [
    "scenario.add_set(\"commodity\", [\"electricity\", \"light\"])\n",
    "scenario.add_set(\"level\", [\"secondary\", \"final\", \"useful\"])\n",
    "scenario.add_set(\"technology\", [\"coal_ppl\", \"wind_ppl\", \"grid\", \"bulb\", \"LED\"])  # LED added\n",
    "scenario.add_set(\"mode\", \"standard\")"
   ]
  },
  {
   "cell_type": "code",
   "execution_count": 2775,
   "metadata": {
    "pycharm": {
     "name": "#%%\n"
    },
    "slideshow": {
     "slide_type": "fragment"
    }
   },
   "outputs": [
    {
     "data": {
      "text/plain": [
       "<AxesSubplot:title={'center':'GDP profile'}, xlabel='Time'>"
      ]
     },
     "execution_count": 2775,
     "metadata": {},
     "output_type": "execute_result"
    },
    {
     "data": {
      "image/png": "[encoded data removed]",
      "text/plain": [
       "<Figure size 432x288 with 1 Axes>"
      ]
     },
     "metadata": {
      "needs_background": "light"
     },
     "output_type": "display_data"
    }
   ],
   "source": [
    "gdp_profile = pd.Series([1.0, 1.5, 1.9], index=pd.Index(model_horizon, name=\"Time\"))\n",
    "gdp_profile.plot(title=\"GDP profile\")"
   ]
  },
  {
   "cell_type": "markdown",
   "metadata": {
    "pycharm": {
     "name": "#%% md\n"
    },
    "slideshow": {
     "slide_type": "slide"
    }
   },
   "source": [
    "First we establish demand. Let's assume\n",
    "\n",
    "- 40 million people in [300 AC](https://atlasoficeandfireblog.wordpress.com/2016/03/06/the-population-of-the-seven-kingdoms/)\n",
    "- similar population growth to Earth in the same time frame [(~factor of 12)](https://en.wikipedia.org/wiki/World_population_estimates)\n",
    "- a per capita demand for electricity of 1000 kWh\n",
    "- and 8760 hours in a year (of course!)\n",
    "\n",
    "Then we can add the demand parameter"
   ]
  },
  {
   "cell_type": "markdown",
   "metadata": {
    "pycharm": {
     "name": "#%% md\n"
    },
    "slideshow": {
     "slide_type": "skip"
    }
   },
   "source": [
    "Note present day: [~72000 GWh in Austria](https://www.iea.org/statistics/?country=AUSTRIA&year=2016&category=Energy%20consumption&indicator=undefined&mode=chart&dataTable=INDICATORS) with population [~8.7M](http://www.austria.org/population/) which is ~8300 kWh per capita"
   ]
  },
  {
   "cell_type": "code",
   "execution_count": 2776,
   "metadata": {
    "pycharm": {
     "name": "#%%\n"
    },
    "slideshow": {
     "slide_type": "fragment"
    }
   },
   "outputs": [],
   "source": [
    "demand_per_year = 40 * 12 * 1000 / 8760\n",
    "\n",
    "light_demand = pd.DataFrame(\n",
    "    {\n",
    "        \"node\": country,\n",
    "        \"commodity\": \"light\",\n",
    "        \"level\": \"useful\",\n",
    "        \"year\": model_horizon,\n",
    "        \"time\": \"year\",\n",
    "        \"value\": (demand_per_year * gdp_profile).round(),\n",
    "        \"unit\": \"GWa\",\n",
    "    }\n",
    ")"
   ]
  },
  {
   "cell_type": "code",
   "execution_count": 2777,
   "metadata": {
    "pycharm": {
     "name": "#%%\n"
    },
    "slideshow": {
     "slide_type": "fragment"
    }
   },
   "outputs": [
    {
     "data": {
      "text/html": [
       "<div>\n",
       "<style scoped>\n",
       "    .dataframe tbody tr th:only-of-type {\n",
       "        vertical-align: middle;\n",
       "    }\n",
       "\n",
       "    .dataframe tbody tr th {\n",
       "        vertical-align: top;\n",
       "    }\n",
       "\n",
       "    .dataframe thead th {\n",
       "        text-align: right;\n",
       "    }\n",
       "</style>\n",
       "<table border=\"1\" class=\"dataframe\">\n",
       "  <thead>\n",
       "    <tr style=\"text-align: right;\">\n",
       "      <th></th>\n",
       "      <th>node</th>\n",
       "      <th>commodity</th>\n",
       "      <th>level</th>\n",
       "      <th>year</th>\n",
       "      <th>time</th>\n",
       "      <th>value</th>\n",
       "      <th>unit</th>\n",
       "    </tr>\n",
       "    <tr>\n",
       "      <th>Time</th>\n",
       "      <th></th>\n",
       "      <th></th>\n",
       "      <th></th>\n",
       "      <th></th>\n",
       "      <th></th>\n",
       "      <th></th>\n",
       "      <th></th>\n",
       "    </tr>\n",
       "  </thead>\n",
       "  <tbody>\n",
       "    <tr>\n",
       "      <th>700</th>\n",
       "      <td>Westeros</td>\n",
       "      <td>light</td>\n",
       "      <td>useful</td>\n",
       "      <td>700</td>\n",
       "      <td>year</td>\n",
       "      <td>55.0</td>\n",
       "      <td>GWa</td>\n",
       "    </tr>\n",
       "    <tr>\n",
       "      <th>710</th>\n",
       "      <td>Westeros</td>\n",
       "      <td>light</td>\n",
       "      <td>useful</td>\n",
       "      <td>710</td>\n",
       "      <td>year</td>\n",
       "      <td>82.0</td>\n",
       "      <td>GWa</td>\n",
       "    </tr>\n",
       "    <tr>\n",
       "      <th>720</th>\n",
       "      <td>Westeros</td>\n",
       "      <td>light</td>\n",
       "      <td>useful</td>\n",
       "      <td>720</td>\n",
       "      <td>year</td>\n",
       "      <td>104.0</td>\n",
       "      <td>GWa</td>\n",
       "    </tr>\n",
       "  </tbody>\n",
       "</table>\n",
       "</div>"
      ],
      "text/plain": [
       "          node commodity   level  year  time  value unit\n",
       "Time                                                    \n",
       "700   Westeros     light  useful   700  year   55.0  GWa\n",
       "710   Westeros     light  useful   710  year   82.0  GWa\n",
       "720   Westeros     light  useful   720  year  104.0  GWa"
      ]
     },
     "execution_count": 2777,
     "metadata": {},
     "output_type": "execute_result"
    }
   ],
   "source": [
    "light_demand"
   ]
  },
  {
   "cell_type": "code",
   "execution_count": 2778,
   "metadata": {
    "pycharm": {
     "name": "#%%\n"
    },
    "slideshow": {
     "slide_type": "fragment"
    }
   },
   "outputs": [],
   "source": [
    "# We use `add_par` for adding data to a MESSAGEix parameter\n",
    "scenario.add_par(\"demand\", light_demand)"
   ]
  },
  {
   "cell_type": "code",
   "execution_count": 2779,
   "metadata": {
    "pycharm": {
     "name": "#%%\n"
    },
    "slideshow": {
     "slide_type": "skip"
    }
   },
   "outputs": [],
   "source": [
    "year_df = scenario.vintage_and_active_years()\n",
    "vintage_years, act_years = year_df[\"year_vtg\"], year_df[\"year_act\"]\n",
    "\n",
    "# Some common values to be used for both the \"input\" and \"output\" parameters\n",
    "base = dict(\n",
    "    node_loc=country,\n",
    "    year_vtg=vintage_years,\n",
    "    year_act=act_years,\n",
    "    mode=\"standard\",\n",
    "    time=\"year\",\n",
    "    unit=\"-\",\n",
    ")\n",
    "\n",
    "# Use the message_ix utility function make_df() to create a base data frame for\n",
    "# different \"input\" parameter values\n",
    "base_input = make_df(\"input\", **base, node_origin=country, time_origin=\"year\")\n",
    "\n",
    "# Create a base data frame for different \"output\" parameter values\n",
    "base_output = make_df(\"output\", **base, node_dest=country, time_dest=\"year\")"
   ]
  },
  {
   "cell_type": "markdown",
   "metadata": {
    "pycharm": {
     "name": "#%% md\n"
    }
   },
   "source": [
    "### added the LED technology with a 10% higher efficiency than the light bulb:\n",
    "This is a tricky assumption as it directly correlates to the total amount of consumed electricity. If I were to make the LED 5-times more efficient than the light bulb, the model will always buy only LEDs because then only 20% of the total electricity will be used which results in ludacrous prices for LEDs if I want the model output to be the same."
   ]
  },
  {
   "cell_type": "code",
   "execution_count": 2780,
   "metadata": {
    "pycharm": {
     "name": "#%%\n"
    },
    "slideshow": {
     "slide_type": "fragment"
    }
   },
   "outputs": [],
   "source": [
    "# Extend `base_output` by filling in some of the other columns, using the\n",
    "# pandas.DataFrame.assign() method\n",
    "bulb_out = base_output.assign(\n",
    "    technology=\"bulb\", \n",
    "    commodity=\"light\", \n",
    "    level=\"useful\", \n",
    "    value=1.0\n",
    ")\n",
    "scenario.add_par(\"output\", bulb_out)\n",
    "\n",
    "LED_out = base_output.assign(\n",
    "    technology=\"LED\", \n",
    "    commodity=\"light\", \n",
    "    level=\"useful\", \n",
    "    value=1.1  # efficiency raised by 10 %\n",
    ")\n",
    "scenario.add_par(\"output\", LED_out)\n",
    "\n",
    "bulb_in = base_input.assign(\n",
    "    technology=\"bulb\", \n",
    "    commodity=\"electricity\", \n",
    "    level=\"final\", \n",
    "    value=1.0\n",
    ")\n",
    "scenario.add_par(\"input\", bulb_in)\n",
    "\n",
    "LED_in = base_input.assign(\n",
    "    technology=\"LED\", \n",
    "    commodity=\"electricity\", \n",
    "    level=\"final\", \n",
    "    value=1.0\n",
    ")\n",
    "scenario.add_par(\"input\", LED_in)"
   ]
  },
  {
   "cell_type": "code",
   "execution_count": 2781,
   "metadata": {
    "pycharm": {
     "name": "#%%\n"
    },
    "slideshow": {
     "slide_type": "fragment"
    }
   },
   "outputs": [],
   "source": [
    "grid_efficiency = 0.9\n",
    "grid_out = base_output.assign(\n",
    "    technology=\"grid\",\n",
    "    commodity=\"electricity\",\n",
    "    level=\"final\",\n",
    "    value=grid_efficiency,\n",
    ")\n",
    "scenario.add_par(\"output\", grid_out)\n",
    "\n",
    "grid_in = base_input.assign(\n",
    "    technology=\"grid\", \n",
    "    commodity=\"electricity\", \n",
    "    level=\"secondary\", \n",
    "    value=1.0\n",
    ")\n",
    "scenario.add_par(\"input\", grid_in)"
   ]
  },
  {
   "cell_type": "code",
   "execution_count": 2782,
   "metadata": {
    "pycharm": {
     "name": "#%%\n"
    },
    "slideshow": {
     "slide_type": "fragment"
    }
   },
   "outputs": [],
   "source": [
    "coal_out = base_output.assign(\n",
    "    technology=\"coal_ppl\",\n",
    "    commodity=\"electricity\",\n",
    "    level=\"secondary\",\n",
    "    value=1.0,\n",
    "    unit=\"GWa\",\n",
    ")\n",
    "scenario.add_par(\"output\", coal_out)\n",
    "\n",
    "wind_out = base_output.assign(\n",
    "    technology=\"wind_ppl\",\n",
    "    commodity=\"electricity\",\n",
    "    level=\"secondary\",\n",
    "    value=1.0,\n",
    "    unit=\"GWa\",\n",
    ")\n",
    "scenario.add_par(\"output\", wind_out)"
   ]
  },
  {
   "cell_type": "markdown",
   "metadata": {
    "pycharm": {
     "name": "#%% md\n"
    },
    "slideshow": {
     "slide_type": "slide"
    }
   },
   "source": [
    "### LED has the same capacity factor as the bulb as it is also 100% available if installed"
   ]
  },
  {
   "cell_type": "code",
   "execution_count": 2783,
   "metadata": {
    "pycharm": {
     "name": "#%%\n"
    },
    "slideshow": {
     "slide_type": "fragment"
    }
   },
   "outputs": [],
   "source": [
    "capacity_factor = {\n",
    "    \"coal_ppl\": 1,\n",
    "    \"wind_ppl\": 0.36,\n",
    "    \"bulb\": 1,\n",
    "    \"LED\": 1\n",
    "}\n",
    "\n",
    "for tec, val in capacity_factor.items():\n",
    "    df = make_df(\n",
    "        \"capacity_factor\",\n",
    "        node_loc=country,\n",
    "        year_vtg=vintage_years,\n",
    "        year_act=act_years,\n",
    "        time=\"year\",\n",
    "        unit=\"-\",\n",
    "        technology=tec,\n",
    "        value=val,\n",
    "    )\n",
    "    scenario.add_par(\"capacity_factor\", df)"
   ]
  },
  {
   "cell_type": "markdown",
   "metadata": {
    "pycharm": {
     "name": "#%% md\n"
    }
   },
   "source": [
    "### LED has a 4 times higher lifetime than the bulb"
   ]
  },
  {
   "cell_type": "code",
   "execution_count": 2784,
   "metadata": {
    "pycharm": {
     "name": "#%%\n"
    },
    "slideshow": {
     "slide_type": "fragment"
    }
   },
   "outputs": [],
   "source": [
    "lifetime = {\n",
    "    \"coal_ppl\": 20,\n",
    "    \"wind_ppl\": 20,\n",
    "    \"bulb\": 1,\n",
    "    \"LED\": 4  # lifetime of the LED added\n",
    "}\n",
    "\n",
    "for tec, val in lifetime.items():\n",
    "    df = make_df(\n",
    "        \"technical_lifetime\",\n",
    "        node_loc=country,\n",
    "        year_vtg=model_horizon,\n",
    "        unit=\"y\",\n",
    "        technology=tec,\n",
    "        value=val,\n",
    "    )\n",
    "    scenario.add_par(\"technical_lifetime\", df)"
   ]
  },
  {
   "cell_type": "markdown",
   "metadata": {
    "pycharm": {
     "name": "#%% md\n"
    },
    "slideshow": {
     "slide_type": "slide"
    }
   },
   "source": [
    "#### Technological Diffusion and Contraction\n"
   ]
  },
  {
   "cell_type": "code",
   "execution_count": 2785,
   "metadata": {
    "pycharm": {
     "name": "#%%\n"
    },
    "slideshow": {
     "slide_type": "fragment"
    }
   },
   "outputs": [],
   "source": [
    "growth_technologies = [\n",
    "    \"coal_ppl\",\n",
    "    \"wind_ppl\",\n",
    "]\n",
    "\n",
    "for tec in growth_technologies:\n",
    "    df = make_df(\n",
    "        \"growth_activity_up\",\n",
    "        node_loc=country,\n",
    "        year_act=model_horizon,\n",
    "        time=\"year\",\n",
    "        unit=\"-\",\n",
    "        technology=tec,\n",
    "        value=0.1,\n",
    "    )\n",
    "    scenario.add_par(\"growth_activity_up\", df)"
   ]
  },
  {
   "cell_type": "code",
   "execution_count": 2786,
   "metadata": {
    "pycharm": {
     "name": "#%%\n"
    }
   },
   "outputs": [
    {
     "data": {
      "text/html": [
       "<div>\n",
       "<style scoped>\n",
       "    .dataframe tbody tr th:only-of-type {\n",
       "        vertical-align: middle;\n",
       "    }\n",
       "\n",
       "    .dataframe tbody tr th {\n",
       "        vertical-align: top;\n",
       "    }\n",
       "\n",
       "    .dataframe thead th {\n",
       "        text-align: right;\n",
       "    }\n",
       "</style>\n",
       "<table border=\"1\" class=\"dataframe\">\n",
       "  <thead>\n",
       "    <tr style=\"text-align: right;\">\n",
       "      <th></th>\n",
       "      <th>node</th>\n",
       "      <th>commodity</th>\n",
       "      <th>level</th>\n",
       "      <th>year</th>\n",
       "      <th>time</th>\n",
       "      <th>value</th>\n",
       "      <th>unit</th>\n",
       "    </tr>\n",
       "    <tr>\n",
       "      <th>Time</th>\n",
       "      <th></th>\n",
       "      <th></th>\n",
       "      <th></th>\n",
       "      <th></th>\n",
       "      <th></th>\n",
       "      <th></th>\n",
       "      <th></th>\n",
       "    </tr>\n",
       "  </thead>\n",
       "  <tbody>\n",
       "    <tr>\n",
       "      <th>700</th>\n",
       "      <td>Westeros</td>\n",
       "      <td>light</td>\n",
       "      <td>useful</td>\n",
       "      <td>700</td>\n",
       "      <td>year</td>\n",
       "      <td>55.0</td>\n",
       "      <td>GWa</td>\n",
       "    </tr>\n",
       "    <tr>\n",
       "      <th>710</th>\n",
       "      <td>Westeros</td>\n",
       "      <td>light</td>\n",
       "      <td>useful</td>\n",
       "      <td>710</td>\n",
       "      <td>year</td>\n",
       "      <td>82.0</td>\n",
       "      <td>GWa</td>\n",
       "    </tr>\n",
       "    <tr>\n",
       "      <th>720</th>\n",
       "      <td>Westeros</td>\n",
       "      <td>light</td>\n",
       "      <td>useful</td>\n",
       "      <td>720</td>\n",
       "      <td>year</td>\n",
       "      <td>104.0</td>\n",
       "      <td>GWa</td>\n",
       "    </tr>\n",
       "  </tbody>\n",
       "</table>\n",
       "</div>"
      ],
      "text/plain": [
       "          node commodity   level  year  time  value unit\n",
       "Time                                                    \n",
       "700   Westeros     light  useful   700  year   55.0  GWa\n",
       "710   Westeros     light  useful   710  year   82.0  GWa\n",
       "720   Westeros     light  useful   720  year  104.0  GWa"
      ]
     },
     "execution_count": 2786,
     "metadata": {},
     "output_type": "execute_result"
    }
   ],
   "source": [
    "light_demand"
   ]
  },
  {
   "cell_type": "code",
   "execution_count": 2787,
   "metadata": {
    "pycharm": {
     "name": "#%%\n"
    },
    "slideshow": {
     "slide_type": "fragment"
    }
   },
   "outputs": [],
   "source": [
    "historic_demand = 0.5 * demand_per_year\n",
    "historic_generation = historic_demand / grid_efficiency\n",
    "coal_fraction = 0.6"
   ]
  },
  {
   "cell_type": "markdown",
   "metadata": {
    "pycharm": {
     "name": "#%% md\n"
    }
   },
   "source": [
    "### Historic demand was covered by light bulbs only"
   ]
  },
  {
   "cell_type": "code",
   "execution_count": 2788,
   "metadata": {
    "pycharm": {
     "name": "#%%\n"
    },
    "slideshow": {
     "slide_type": "fragment"
    }
   },
   "outputs": [],
   "source": [
    "old_activity = {\n",
    "    \"coal_ppl\": coal_fraction * historic_generation,\n",
    "    \"wind_ppl\": (1 - coal_fraction) * historic_generation,\n",
    "    \"bulb\": historic_demand,  # added the bulbs to \"old_activity\"\n",
    "    \"LED\": 0\n",
    "}\n",
    "\n",
    "for tec, val in old_activity.items():\n",
    "    df = make_df(\n",
    "        \"historical_activity\",\n",
    "        node_loc=country,\n",
    "        year_act=history,\n",
    "        mode=\"standard\",\n",
    "        time=\"year\",\n",
    "        unit=\"GWa\",\n",
    "        technology=tec,\n",
    "        value=val,\n",
    "    )\n",
    "    scenario.add_par(\"historical_activity\", df)"
   ]
  },
  {
   "cell_type": "code",
   "execution_count": 2789,
   "metadata": {
    "pycharm": {
     "name": "#%%\n"
    },
    "slideshow": {
     "slide_type": "fragment"
    }
   },
   "outputs": [],
   "source": [
    "for tec in old_activity:\n",
    "    value = old_activity[tec] / (1 * 10 * capacity_factor[tec])\n",
    "    df = make_df(\n",
    "        \"historical_new_capacity\",\n",
    "        node_loc=country,\n",
    "        year_vtg=history,\n",
    "        unit=\"GWa\",\n",
    "        technology=tec,\n",
    "        value=value,\n",
    "    )\n",
    "    scenario.add_par(\"historical_new_capacity\", df)"
   ]
  },
  {
   "cell_type": "code",
   "execution_count": 2790,
   "metadata": {
    "pycharm": {
     "name": "#%%\n"
    },
    "slideshow": {
     "slide_type": "fragment"
    }
   },
   "outputs": [],
   "source": [
    "scenario.add_par(\"interestrate\", model_horizon, value=0.05, unit=\"-\")"
   ]
  },
  {
   "cell_type": "markdown",
   "metadata": {
    "pycharm": {
     "name": "#%% md\n"
    }
   },
   "source": [
    "### I added the LED with higher investment costs than bulb:\n",
    "\n",
    "LED costs 300 USD/kW.  I chose this value so the LED will not be chosen in the baseline scenario. If the LED was cheaper (eg. 200USD/kW it is already better than the bulb because of the efficiency increase. When taking the lifetime into account the LED is now also more expensive than the wind and coal power plants which will be visible later in the results."
   ]
  },
  {
   "cell_type": "code",
   "execution_count": 2791,
   "metadata": {
    "pycharm": {
     "name": "#%%\n"
    },
    "slideshow": {
     "slide_type": "fragment"
    }
   },
   "outputs": [],
   "source": [
    "# Add a new unit for ixmp to recognize as valid\n",
    "mp.add_unit(\"USD/kW\")\n",
    "\n",
    "# in $ / kW (specific investment cost)\n",
    "costs = {\n",
    "    \"coal_ppl\": 500,\n",
    "    \"wind_ppl\": 1500,\n",
    "    \"bulb\": 5,\n",
    "    \"LED\": 300,  # a lot more expensive than bulb\n",
    "}\n",
    "\n",
    "for tec, val in costs.items():\n",
    "    df = make_df(\n",
    "        \"inv_cost\",\n",
    "        node_loc=country,\n",
    "        year_vtg=model_horizon,\n",
    "        unit=\"USD/kW\",\n",
    "        technology=tec,\n",
    "        value=val,\n",
    "    )\n",
    "    scenario.add_par(\"inv_cost\", df)"
   ]
  },
  {
   "cell_type": "code",
   "execution_count": 2792,
   "metadata": {
    "pycharm": {
     "name": "#%%\n"
    },
    "slideshow": {
     "slide_type": "fragment"
    }
   },
   "outputs": [],
   "source": [
    "# in $ / kW / year (every year a fixed quantity is destinated to cover part of the O&M costs\n",
    "# based on the size of the plant, e.g. lightning, labor, scheduled maintenance, etc.)\n",
    "\n",
    "costs = {\n",
    "    \"coal_ppl\": 30,\n",
    "    \"wind_ppl\": 10,\n",
    "}\n",
    "\n",
    "for tec, val in costs.items():\n",
    "    df = make_df(\n",
    "        \"fix_cost\",\n",
    "        node_loc=country,\n",
    "        year_vtg=vintage_years,\n",
    "        year_act=act_years,\n",
    "        unit=\"USD/kWa\",\n",
    "        technology=tec,\n",
    "        value=val,\n",
    "    )\n",
    "    scenario.add_par(\"fix_cost\", df)"
   ]
  },
  {
   "cell_type": "code",
   "execution_count": 2793,
   "metadata": {
    "pycharm": {
     "name": "#%%\n"
    },
    "slideshow": {
     "slide_type": "fragment"
    }
   },
   "outputs": [],
   "source": [
    "costs = {\n",
    "    \"coal_ppl\": 30,\n",
    "    \"grid\": 50,\n",
    "}\n",
    "\n",
    "for tec, val in costs.items():\n",
    "    df = make_df(\n",
    "        \"var_cost\",\n",
    "        node_loc=country,\n",
    "        year_vtg=vintage_years,\n",
    "        year_act=act_years,\n",
    "        mode=\"standard\",\n",
    "        time=\"year\",\n",
    "        unit=\"USD/kWa\",\n",
    "        technology=tec,\n",
    "        value=val,\n",
    "    )\n",
    "    scenario.add_par(\"var_cost\", df)"
   ]
  },
  {
   "cell_type": "markdown",
   "metadata": {
    "pycharm": {
     "name": "#%% md\n"
    }
   },
   "source": [
    "#### Solve model"
   ]
  },
  {
   "cell_type": "code",
   "execution_count": 2794,
   "metadata": {
    "pycharm": {
     "name": "#%%\n"
    },
    "slideshow": {
     "slide_type": "fragment"
    }
   },
   "outputs": [],
   "source": [
    "from message_ix import log\n",
    "\n",
    "log.info(f\"version number before commit(): {scenario.version}\")\n",
    "\n",
    "scenario.commit(comment=\"basic model of Westeros electrification\")\n",
    "\n",
    "log.info(f\"version number after commit(): {scenario.version}\")"
   ]
  },
  {
   "cell_type": "code",
   "execution_count": 2795,
   "metadata": {
    "pycharm": {
     "name": "#%%\n"
    },
    "slideshow": {
     "slide_type": "fragment"
    }
   },
   "outputs": [],
   "source": [
    "scenario.set_as_default()"
   ]
  },
  {
   "cell_type": "code",
   "execution_count": 2796,
   "metadata": {
    "pycharm": {
     "name": "#%%\n"
    },
    "slideshow": {
     "slide_type": "fragment"
    }
   },
   "outputs": [],
   "source": [
    "scenario.solve()"
   ]
  },
  {
   "cell_type": "markdown",
   "metadata": {
    "pycharm": {
     "name": "#%% md\n"
    }
   },
   "source": [
    "### show that the model has the same result as in the initial westeros_baseline scenario:\n",
    "The objective function in the initial scenario returned: 173795.09375"
   ]
  },
  {
   "cell_type": "code",
   "execution_count": 2797,
   "metadata": {
    "jupyter": {
     "name": "solve-objective-value"
    },
    "pycharm": {
     "name": "#%%\n"
    },
    "slideshow": {
     "slide_type": "fragment"
    }
   },
   "outputs": [
    {
     "data": {
      "text/plain": [
       "173795.09375"
      ]
     },
     "execution_count": 2797,
     "metadata": {},
     "output_type": "execute_result"
    }
   ],
   "source": [
    "scenario.var(\"OBJ\")[\"lvl\"]"
   ]
  },
  {
   "cell_type": "code",
   "execution_count": 2798,
   "metadata": {
    "pycharm": {
     "name": "#%%\n"
    }
   },
   "outputs": [],
   "source": [
    "# check if the result changed in comparison to the initial scenario without LED:\n",
    "assert 173795.09375 == scenario.var(\"OBJ\")[\"lvl\"]"
   ]
  },
  {
   "cell_type": "markdown",
   "metadata": {
    "pycharm": {
     "name": "#%% md\n"
    }
   },
   "source": [
    "#### The results did not change\n",
    "\n",
    "## 2) \"Investigate under which carbon price the LED technology becomes economically viable\":"
   ]
  },
  {
   "cell_type": "markdown",
   "metadata": {
    "pycharm": {
     "name": "#%% md\n"
    }
   },
   "source": [
    "reload the scenario created before, but unsolved:"
   ]
  },
  {
   "cell_type": "code",
   "execution_count": 2799,
   "metadata": {
    "pycharm": {
     "name": "#%%\n"
    }
   },
   "outputs": [],
   "source": [
    "base = message_ix.Scenario(mp, model=\"Westeros Electrified\", scenario=\"baseline\")\n",
    "scenario_2 = base.clone(\"Westeros Electrified\", \n",
    "                        \"co2_price\",\n",
    "                        \"introduction of co2 prices\", \n",
    "                        keep_solution=False)\n",
    "scenario_2.check_out()"
   ]
  },
  {
   "cell_type": "markdown",
   "metadata": {
    "pycharm": {
     "name": "#%% md\n"
    }
   },
   "source": [
    "## Introducing Emissions"
   ]
  },
  {
   "cell_type": "code",
   "execution_count": 2800,
   "metadata": {
    "pycharm": {
     "name": "#%%\n"
    }
   },
   "outputs": [],
   "source": [
    "# First we introduce the emission of CO2 and the emission category GHG\n",
    "scenario_2.add_set(\"emission\", \"CO2\")\n",
    "scenario_2.add_cat(\"emission\", \"GHG\", \"CO2\")\n",
    "scenario_2.add_par(\"emission_factor\", scenario_2.par(\"emission_factor\"))\n",
    "\n",
    "# Then we add new units to the model library (needed only once)\n",
    "mp.add_unit(\"tCO2/kWa\")\n",
    "\n",
    "# add CO2 emissions to the coal powerplant\n",
    "emission_factor = make_df(\n",
    "    \"emission_factor\",\n",
    "    node_loc=country,\n",
    "    year_vtg=vintage_years,\n",
    "    year_act=act_years,\n",
    "    mode=\"standard\",\n",
    "    unit=\"tCO2/kWa\",\n",
    "    technology=\"coal_ppl\",\n",
    "    emission=\"CO2\",\n",
    "    value=7.4,\n",
    ")\n",
    "scenario_2.add_par(\"emission_factor\", emission_factor)"
   ]
  },
  {
   "cell_type": "markdown",
   "metadata": {
    "pycharm": {
     "name": "#%% md\n"
    }
   },
   "source": [
    "### adding the CO2 tax"
   ]
  },
  {
   "cell_type": "code",
   "execution_count": 2801,
   "metadata": {
    "pycharm": {
     "name": "#%%\n"
    }
   },
   "outputs": [
    {
     "data": {
      "text/html": [
       "<div>\n",
       "<style scoped>\n",
       "    .dataframe tbody tr th:only-of-type {\n",
       "        vertical-align: middle;\n",
       "    }\n",
       "\n",
       "    .dataframe tbody tr th {\n",
       "        vertical-align: top;\n",
       "    }\n",
       "\n",
       "    .dataframe thead th {\n",
       "        text-align: right;\n",
       "    }\n",
       "</style>\n",
       "<table border=\"1\" class=\"dataframe\">\n",
       "  <thead>\n",
       "    <tr style=\"text-align: right;\">\n",
       "      <th></th>\n",
       "      <th>node</th>\n",
       "      <th>type_emission</th>\n",
       "      <th>type_tec</th>\n",
       "      <th>type_year</th>\n",
       "      <th>value</th>\n",
       "      <th>unit</th>\n",
       "    </tr>\n",
       "  </thead>\n",
       "  <tbody>\n",
       "    <tr>\n",
       "      <th>0</th>\n",
       "      <td>Westeros</td>\n",
       "      <td>GHG</td>\n",
       "      <td>all</td>\n",
       "      <td>700</td>\n",
       "      <td>10.0</td>\n",
       "      <td>USD/tCO2</td>\n",
       "    </tr>\n",
       "    <tr>\n",
       "      <th>1</th>\n",
       "      <td>Westeros</td>\n",
       "      <td>GHG</td>\n",
       "      <td>all</td>\n",
       "      <td>710</td>\n",
       "      <td>20.0</td>\n",
       "      <td>USD/tCO2</td>\n",
       "    </tr>\n",
       "    <tr>\n",
       "      <th>2</th>\n",
       "      <td>Westeros</td>\n",
       "      <td>GHG</td>\n",
       "      <td>all</td>\n",
       "      <td>720</td>\n",
       "      <td>30.0</td>\n",
       "      <td>USD/tCO2</td>\n",
       "    </tr>\n",
       "  </tbody>\n",
       "</table>\n",
       "</div>"
      ],
      "text/plain": [
       "       node type_emission type_tec type_year  value      unit\n",
       "0  Westeros           GHG      all       700   10.0  USD/tCO2\n",
       "1  Westeros           GHG      all       710   20.0  USD/tCO2\n",
       "2  Westeros           GHG      all       720   30.0  USD/tCO2"
      ]
     },
     "execution_count": 2801,
     "metadata": {},
     "output_type": "execute_result"
    }
   ],
   "source": [
    "prices = [10, 20, 30]\n",
    "emission_prices = pd.DataFrame(index=[700, 710, 720], data=prices, columns=[\"lvl\"])\n",
    "\n",
    "scenario_2.add_set(\"type_year\", [700, 710, 720])\n",
    "\n",
    "# add units\n",
    "mp.add_unit(\"USD/tCO2\")\n",
    "\n",
    "tax_emission = make_df(\n",
    "    \"tax_emission\",\n",
    "    node=\"Westeros\",\n",
    "    type_year=[700, 710, 720],\n",
    "    type_tec=\"all\",\n",
    "    unit=\"USD/tCO2\",\n",
    "    type_emission=\"GHG\",\n",
    "    value=emission_prices.lvl,\n",
    ")\n",
    "scenario_2.add_par(\"tax_emission\", tax_emission)\n",
    "scenario_2.par(\"tax_emission\")"
   ]
  },
  {
   "cell_type": "code",
   "execution_count": 2802,
   "metadata": {
    "pycharm": {
     "name": "#%%\n"
    }
   },
   "outputs": [
    {
     "name": "stdout",
     "output_type": "stream",
     "text": [
      "337948.4375\n"
     ]
    }
   ],
   "source": [
    "scenario_2.commit(comment=\"Introducing co2 price\")\n",
    "scenario_2.set_as_default()\n",
    "scenario_2.solve()\n",
    "print(scenario_2.var(\"OBJ\")[\"lvl\"])"
   ]
  },
  {
   "cell_type": "markdown",
   "metadata": {},
   "source": [
    "#### put the code above in a single function to re-run it in one call so the CO2-prices can be changed easily:"
   ]
  },
  {
   "cell_type": "code",
   "execution_count": 2803,
   "metadata": {
    "pycharm": {
     "name": "#%%\n"
    }
   },
   "outputs": [],
   "source": [
    "def run_scenario(prices):\n",
    "    base = message_ix.Scenario(mp, model=\"Westeros Electrified\", scenario=\"baseline\")\n",
    "    scenario_2 = base.clone(\"Westeros Electrified\", \n",
    "                            \"co2_price_2\",\n",
    "                            \"introduction of co2 prices\", \n",
    "                            keep_solution=False)\n",
    "    scenario_2.check_out()\n",
    "    # First we introduce the emission of CO2 and the emission category GHG\n",
    "    scenario_2.add_set(\"emission\", \"CO2\")\n",
    "    scenario_2.add_cat(\"emission\", \"GHG\", \"CO2\")\n",
    "    scenario_2.add_par(\"emission_factor\", scenario_2.par(\"emission_factor\"))\n",
    "\n",
    "    # Then we add new units to the model library (needed only once)\n",
    "    mp.add_unit(\"tCO2/kWa\")\n",
    "\n",
    "    # add CO2 emissions to the coal powerplant\n",
    "    emission_factor = make_df(\n",
    "        \"emission_factor\",\n",
    "        node_loc=country,\n",
    "        year_vtg=vintage_years,\n",
    "        year_act=act_years,\n",
    "        mode=\"standard\",\n",
    "        unit=\"tCO2/kWa\",\n",
    "        technology=\"coal_ppl\",\n",
    "        emission=\"CO2\",\n",
    "        value=7.4,\n",
    "    )\n",
    "    scenario_2.add_par(\"emission_factor\", emission_factor)\n",
    "    \n",
    "    # specify CO2 prices for each decade\n",
    "    emission_prices = pd.DataFrame(index=[700, 710, 720], data=prices, columns=[\"lvl\"])\n",
    "\n",
    "    scenario_2.add_set(\"type_year\", [700, 710, 720])\n",
    "\n",
    "    # add units\n",
    "    mp.add_unit(\"USD/tCO2\")\n",
    "\n",
    "    tax_emission = make_df(\n",
    "        \"tax_emission\",\n",
    "        node=\"Westeros\",\n",
    "        type_year=[700, 710, 720],\n",
    "        type_tec=\"all\",\n",
    "        unit=\"USD/tCO2\",\n",
    "        type_emission=\"GHG\",\n",
    "        value=emission_prices.lvl,\n",
    "    )\n",
    "    scenario_2.add_par(\"tax_emission\", tax_emission)\n",
    "    scenario_2.par(\"tax_emission\")\n",
    "    \n",
    "    # solve the model:\n",
    "    scenario_2.commit(comment=\"Introducing co2 price\")\n",
    "    scenario_2.set_as_default()\n",
    "    scenario_2.solve()\n",
    "    print(scenario_2.var(\"OBJ\")[\"lvl\"])\n",
    "    \n",
    "    return scenario_2"
   ]
  },
  {
   "cell_type": "markdown",
   "metadata": {},
   "source": [
    "#### prepare for plots"
   ]
  },
  {
   "cell_type": "code",
   "execution_count": 2804,
   "metadata": {
    "pycharm": {
     "name": "#%%\n"
    },
    "slideshow": {
     "slide_type": "fragment"
    }
   },
   "outputs": [],
   "source": [
    "rep = Reporter.from_scenario(scenario_2)\n",
    "prepare_plots(rep)"
   ]
  },
  {
   "cell_type": "markdown",
   "metadata": {
    "pycharm": {
     "name": "#%% md\n"
    }
   },
   "source": [
    "#### The LED is not used with these CO2 prices (10, 20, 30 USD/tCO2) yet"
   ]
  },
  {
   "cell_type": "code",
   "execution_count": 2805,
   "metadata": {
    "pycharm": {
     "name": "#%%\n"
    }
   },
   "outputs": [
    {
     "data": {
      "text/plain": [
       "<AxesSubplot:title={'center':'Westeros Energy System Activity'}, xlabel='Year', ylabel='GWa'>"
      ]
     },
     "execution_count": 2805,
     "metadata": {},
     "output_type": "execute_result"
    },
    {
     "data": {
      "image/png": "[encoded data removed]",
      "text/plain": [
       "<Figure size 432x288 with 1 Axes>"
      ]
     },
     "metadata": {
      "needs_background": "light"
     },
     "output_type": "display_data"
    }
   ],
   "source": [
    "# show LED results:\n",
    "rep.set_filters(t=[\"bulb\", \"LED\"])\n",
    "rep.get(\"plot activity\")"
   ]
  },
  {
   "cell_type": "markdown",
   "metadata": {
    "pycharm": {
     "name": "#%% md\n"
    }
   },
   "source": [
    "#### However the coal power plants are reduced significantly with the CO2 price (10, 20, 30 USD/tCO2) is in place"
   ]
  },
  {
   "cell_type": "code",
   "execution_count": 2806,
   "metadata": {
    "pycharm": {
     "name": "#%%\n"
    },
    "slideshow": {
     "slide_type": "fragment"
    }
   },
   "outputs": [
    {
     "data": {
      "text/plain": [
       "<AxesSubplot:title={'center':'Westeros Energy System Activity'}, xlabel='Year', ylabel='GWa'>"
      ]
     },
     "execution_count": 2806,
     "metadata": {},
     "output_type": "execute_result"
    },
    {
     "data": {
      "image/png": "[encoded data removed]",
      "text/plain": [
       "<Figure size 432x288 with 1 Axes>"
      ]
     },
     "metadata": {
      "needs_background": "light"
     },
     "output_type": "display_data"
    }
   ],
   "source": [
    "rep = Reporter.from_scenario(scenario_2)\n",
    "prepare_plots(rep)\n",
    "rep.set_filters(t=[\"coal_ppl\", \"wind_ppl\"])\n",
    "rep.get(\"plot activity\")"
   ]
  },
  {
   "cell_type": "markdown",
   "metadata": {},
   "source": [
    "#### I increased the prices significantly until I saw that the LED will be used:"
   ]
  },
  {
   "cell_type": "code",
   "execution_count": 2807,
   "metadata": {
    "pycharm": {
     "name": "#%%\n"
    }
   },
   "outputs": [
    {
     "name": "stdout",
     "output_type": "stream",
     "text": [
      "463864.90625\n"
     ]
    }
   ],
   "source": [
    "prices = [60, 70, 80]  # set prices to 60, 70, and 80 USD/tCO2\n",
    "new_scenario = run_scenario(prices)"
   ]
  },
  {
   "cell_type": "code",
   "execution_count": 2808,
   "metadata": {
    "pycharm": {
     "name": "#%%\n"
    }
   },
   "outputs": [],
   "source": [
    "rep = Reporter.from_scenario(new_scenario)\n",
    "prepare_plots(rep)"
   ]
  },
  {
   "cell_type": "markdown",
   "metadata": {
    "pycharm": {
     "name": "#%% md\n"
    }
   },
   "source": [
    "#### With these CO2 prices the coal power plant is almost completly phased out in the second decade and phased out in the last decade:"
   ]
  },
  {
   "cell_type": "code",
   "execution_count": 2809,
   "metadata": {
    "pycharm": {
     "name": "#%%\n"
    }
   },
   "outputs": [
    {
     "data": {
      "text/plain": [
       "<AxesSubplot:title={'center':'Westeros Energy System Activity'}, xlabel='Year', ylabel='GWa'>"
      ]
     },
     "execution_count": 2809,
     "metadata": {},
     "output_type": "execute_result"
    },
    {
     "data": {
      "image/png": "[encoded data removed]",
      "text/plain": [
       "<Figure size 432x288 with 1 Axes>"
      ]
     },
     "metadata": {
      "needs_background": "light"
     },
     "output_type": "display_data"
    }
   ],
   "source": [
    "rep.set_filters(t=[\"coal_ppl\", \"wind_ppl\"])\n",
    "rep.get(\"plot activity\")"
   ]
  },
  {
   "cell_type": "markdown",
   "metadata": {},
   "source": [
    "#### We can also observe that only wind power plants are being built after 700. "
   ]
  },
  {
   "cell_type": "code",
   "execution_count": 2810,
   "metadata": {},
   "outputs": [
    {
     "data": {
      "text/plain": [
       "<AxesSubplot:title={'center':'Westeros Energy System New Capacity'}, xlabel='Year', ylabel='GWa'>"
      ]
     },
     "execution_count": 2810,
     "metadata": {},
     "output_type": "execute_result"
    },
    {
     "data": {
      "image/png": "[encoded data removed]",
      "text/plain": [
       "<Figure size 432x288 with 1 Axes>"
      ]
     },
     "metadata": {
      "needs_background": "light"
     },
     "output_type": "display_data"
    }
   ],
   "source": [
    "rep.get(\"plot new capacity\")"
   ]
  },
  {
   "cell_type": "markdown",
   "metadata": {
    "pycharm": {
     "name": "#%% md\n"
    }
   },
   "source": [
    "#### At the same time LEDs become viable in the second decade. The CO2 price in the second decade rises from 60to 70 USD/tCO2. I assume that the price barrier for LED to become economically is between 50 and 60 USD/tCO2."
   ]
  },
  {
   "cell_type": "code",
   "execution_count": 2811,
   "metadata": {
    "pycharm": {
     "name": "#%%\n"
    }
   },
   "outputs": [
    {
     "data": {
      "text/plain": [
       "<AxesSubplot:title={'center':'Westeros Energy System Activity'}, xlabel='Year', ylabel='GWa'>"
      ]
     },
     "execution_count": 2811,
     "metadata": {},
     "output_type": "execute_result"
    },
    {
     "data": {
      "image/png": "[encoded data removed]",
      "text/plain": [
       "<Figure size 432x288 with 1 Axes>"
      ]
     },
     "metadata": {
      "needs_background": "light"
     },
     "output_type": "display_data"
    }
   ],
   "source": [
    "rep = Reporter.from_scenario(new_scenario)\n",
    "prepare_plots(rep)\n",
    "rep.set_filters(t=[\"bulb\", \"LED\"])\n",
    "rep.get(\"plot activity\")"
   ]
  },
  {
   "cell_type": "markdown",
   "metadata": {},
   "source": [
    "#### Because of the higher efficiency + lifetime of the LED, the system has to install much less capacity"
   ]
  },
  {
   "cell_type": "code",
   "execution_count": 2812,
   "metadata": {},
   "outputs": [
    {
     "data": {
      "text/plain": [
       "<AxesSubplot:title={'center':'Westeros Energy System New Capacity'}, xlabel='Year', ylabel='GWa'>"
      ]
     },
     "execution_count": 2812,
     "metadata": {},
     "output_type": "execute_result"
    },
    {
     "data": {
      "image/png": "[encoded data removed]",
      "text/plain": [
       "<Figure size 432x288 with 1 Axes>"
      ]
     },
     "metadata": {
      "needs_background": "light"
     },
     "output_type": "display_data"
    }
   ],
   "source": [
    "rep.get(\"plot new capacity\")"
   ]
  },
  {
   "cell_type": "markdown",
   "metadata": {
    "pycharm": {
     "name": "#%% md\n"
    }
   },
   "source": [
    "### If we re-run the scenario with 70USD/tCO2 the LED will be used in the first decade as well:"
   ]
  },
  {
   "cell_type": "code",
   "execution_count": 2813,
   "metadata": {
    "pycharm": {
     "name": "#%%\n"
    }
   },
   "outputs": [
    {
     "name": "stdout",
     "output_type": "stream",
     "text": [
      "478485.4375\n"
     ]
    }
   ],
   "source": [
    "prices = [70, 70, 70]  # same price in all decades\n",
    "new_scenario = run_scenario(prices)"
   ]
  },
  {
   "cell_type": "code",
   "execution_count": 2814,
   "metadata": {
    "pycharm": {
     "name": "#%%\n"
    }
   },
   "outputs": [],
   "source": [
    "rep = Reporter.from_scenario(new_scenario)\n",
    "prepare_plots(rep)"
   ]
  },
  {
   "cell_type": "code",
   "execution_count": 2815,
   "metadata": {
    "pycharm": {
     "name": "#%%\n"
    }
   },
   "outputs": [
    {
     "data": {
      "text/plain": [
       "<AxesSubplot:title={'center':'Westeros Energy System Activity'}, xlabel='Year', ylabel='GWa'>"
      ]
     },
     "execution_count": 2815,
     "metadata": {},
     "output_type": "execute_result"
    },
    {
     "data": {
      "image/png": "[encoded data removed]",
      "text/plain": [
       "<Figure size 432x288 with 1 Axes>"
      ]
     },
     "metadata": {
      "needs_background": "light"
     },
     "output_type": "display_data"
    }
   ],
   "source": [
    "rep.set_filters(t=[\"bulb\", \"LED\"])\n",
    "rep.get(\"plot activity\")"
   ]
  },
  {
   "cell_type": "markdown",
   "metadata": {
    "pycharm": {
     "name": "#%% md\n"
    }
   },
   "source": [
    "#### The model never chooses to install LEDs in the last decade because  in this set up buying LEDs is more expensive than building more wind parks. In the last decade coal is completly phased out, thus the electricity price is much cheaper which makes the LED uneconomically compared to the light bulb."
   ]
  },
  {
   "cell_type": "code",
   "execution_count": 2816,
   "metadata": {},
   "outputs": [
    {
     "data": {
      "text/plain": [
       "<AxesSubplot:title={'center':'Westeros Energy System Prices'}, xlabel='Year', ylabel='¢/kW·h'>"
      ]
     },
     "execution_count": 2816,
     "metadata": {},
     "output_type": "execute_result"
    },
    {
     "data": {
      "image/png": "[encoded data removed]",
      "text/plain": [
       "<Figure size 432x288 with 1 Axes>"
      ]
     },
     "metadata": {
      "needs_background": "light"
     },
     "output_type": "display_data"
    }
   ],
   "source": [
    "rep.set_filters(c=[\"light\"])\n",
    "rep.get(\"plot prices\")"
   ]
  },
  {
   "cell_type": "markdown",
   "metadata": {
    "pycharm": {
     "name": "#%% md\n"
    }
   },
   "source": [
    "## 3) \"Assume different maximum diffusion rates for this new technology and compare the share of electricity from coal and wind depending on the diffusion rates\""
   ]
  },
  {
   "cell_type": "markdown",
   "metadata": {
    "pycharm": {
     "name": "#%% md\n"
    }
   },
   "source": [
    "Clone the last model with a steady CO2 price of 70 USD/tCO2:"
   ]
  },
  {
   "cell_type": "code",
   "execution_count": 2817,
   "metadata": {
    "pycharm": {
     "name": "#%%\n"
    }
   },
   "outputs": [],
   "source": [
    "def run_diffusion_constraints(max_growth, inital_activity):\n",
    "    base = message_ix.Scenario(mp, model=\"Westeros Electrified\", scenario=\"co2_price_2\")\n",
    "    scenario_3 = base.clone(\"Westeros Electrified\", \n",
    "                            \"LED_diffusion\",\n",
    "                            keep_solution=False)\n",
    "\n",
    "\n",
    "    scenario_3.check_out()\n",
    "    \n",
    "    # define the diffusion constraint\n",
    "    technologies = {\"LED\": max_growth, \"bulb\": 1}\n",
    "    \n",
    "    # give the LED an initial_activity_up (otherwise LEDs are ignored)\n",
    "    df_led_initial_activity_up = make_df(\n",
    "        \"initial_activity_up\",\n",
    "            node_loc=country,\n",
    "            year_act=model_horizon,\n",
    "            time=\"year\",\n",
    "            unit=\"-\",\n",
    "            technology=\"LED\",\n",
    "            value=inital_activity,\n",
    "        )\n",
    "    scenario_3.add_par(\"initial_activity_up\", df_led_initial_activity_up)\n",
    "    \n",
    "    # set the diffusion constraint\n",
    "    for tec, diffusion in technologies.items():\n",
    "        df = make_df(\n",
    "            \"growth_activity_up\",\n",
    "            node_loc=country,\n",
    "            year_act=model_horizon,\n",
    "            time=\"year\",\n",
    "            unit=\"-\",\n",
    "            technology=tec,\n",
    "            value=diffusion,\n",
    "        )\n",
    "        scenario_3.add_par(\"growth_activity_up\", df)\n",
    "    \n",
    "    # solve model\n",
    "    scenario_3.commit(comment=\"Introducing diffusion rate\")\n",
    "    scenario_3.set_as_default()\n",
    "    scenario_3.solve()\n",
    "    print(scenario_3.var(\"OBJ\")[\"lvl\"])\n",
    "    \n",
    "    return scenario_3"
   ]
  },
  {
   "cell_type": "markdown",
   "metadata": {},
   "source": [
    "### define the diffusion constraint:"
   ]
  },
  {
   "cell_type": "markdown",
   "metadata": {},
   "source": [
    "The initial activity up for the LED is set to 10%. This value is not changed in the following because the maximal growth in capacity refers to this value."
   ]
  },
  {
   "cell_type": "code",
   "execution_count": 2818,
   "metadata": {},
   "outputs": [],
   "source": [
    "initial_LED_activity = 0.1"
   ]
  },
  {
   "cell_type": "code",
   "execution_count": 2819,
   "metadata": {},
   "outputs": [
    {
     "name": "stdout",
     "output_type": "stream",
     "text": [
      "480756.4375\n"
     ]
    }
   ],
   "source": [
    "maximal_diffusion_LED = 0.1  # 10%\n",
    "scenario_3 = run_diffusion_constraints(maximal_diffusion_LED, initial_LED_activity)"
   ]
  },
  {
   "cell_type": "code",
   "execution_count": 2820,
   "metadata": {
    "pycharm": {
     "name": "#%%\n"
    }
   },
   "outputs": [],
   "source": [
    "rep = Reporter.from_scenario(scenario_3)\n",
    "prepare_plots(rep)"
   ]
  },
  {
   "cell_type": "markdown",
   "metadata": {},
   "source": [
    "#### With 10% growth in activity for the LED, the technology does not really come into play:"
   ]
  },
  {
   "cell_type": "code",
   "execution_count": 2821,
   "metadata": {
    "pycharm": {
     "name": "#%%\n"
    }
   },
   "outputs": [
    {
     "data": {
      "text/plain": [
       "<AxesSubplot:title={'center':'Westeros Energy System Activity'}, xlabel='Year', ylabel='GWa'>"
      ]
     },
     "execution_count": 2821,
     "metadata": {},
     "output_type": "execute_result"
    },
    {
     "data": {
      "image/png": "[encoded data removed]",
      "text/plain": [
       "<Figure size 432x288 with 1 Axes>"
      ]
     },
     "metadata": {
      "needs_background": "light"
     },
     "output_type": "display_data"
    }
   ],
   "source": [
    "rep.set_filters(t=[\"bulb\", \"LED\"])\n",
    "rep.get(\"plot activity\")"
   ]
  },
  {
   "cell_type": "markdown",
   "metadata": {},
   "source": [
    "The coal power plant is more active with the LED being constrained to a 10% capacity growth. Wind power plants can not be built fast enough therefore coal has to provide the additional electricity."
   ]
  },
  {
   "cell_type": "code",
   "execution_count": 2822,
   "metadata": {},
   "outputs": [
    {
     "data": {
      "text/plain": [
       "<AxesSubplot:title={'center':'Westeros Energy System Activity'}, xlabel='Year', ylabel='GWa'>"
      ]
     },
     "execution_count": 2822,
     "metadata": {},
     "output_type": "execute_result"
    },
    {
     "data": {
      "image/png": "[encoded data removed]",
      "text/plain": [
       "<Figure size 432x288 with 1 Axes>"
      ]
     },
     "metadata": {
      "needs_background": "light"
     },
     "output_type": "display_data"
    }
   ],
   "source": [
    "rep.set_filters(t=[\"coal_ppl\", \"wind_ppl\"])\n",
    "rep.get(\"plot activity\")"
   ]
  },
  {
   "cell_type": "markdown",
   "metadata": {},
   "source": [
    "Setting the growth capacity up for LED to **50%** leads to the LED being active for ~99% in 710. In 700 only a quarter of the light is provided by LED because the growth capacity of 50% per year compared to the initial year is not large enough."
   ]
  },
  {
   "cell_type": "code",
   "execution_count": 2823,
   "metadata": {},
   "outputs": [
    {
     "name": "stdout",
     "output_type": "stream",
     "text": [
      "480227.25\n"
     ]
    }
   ],
   "source": [
    "maximal_diffusion_LED = 0.5  # 50%\n",
    "scenario_4 = run_diffusion_constraints(maximal_diffusion_LED, initial_LED_activity)"
   ]
  },
  {
   "cell_type": "code",
   "execution_count": 2824,
   "metadata": {},
   "outputs": [],
   "source": [
    "rep = Reporter.from_scenario(scenario_4)\n",
    "prepare_plots(rep)"
   ]
  },
  {
   "cell_type": "code",
   "execution_count": 2825,
   "metadata": {},
   "outputs": [
    {
     "data": {
      "text/plain": [
       "<AxesSubplot:title={'center':'Westeros Energy System Activity'}, xlabel='Year', ylabel='GWa'>"
      ]
     },
     "execution_count": 2825,
     "metadata": {},
     "output_type": "execute_result"
    },
    {
     "data": {
      "image/png": "[encoded data removed]",
      "text/plain": [
       "<Figure size 432x288 with 1 Axes>"
      ]
     },
     "metadata": {
      "needs_background": "light"
     },
     "output_type": "display_data"
    }
   ],
   "source": [
    "rep.set_filters(t=[\"bulb\", \"LED\"])\n",
    "rep.get(\"plot activity\")"
   ]
  },
  {
   "cell_type": "markdown",
   "metadata": {},
   "source": [
    "With the growth constraint set to 50% the coal power plant activity is only a little bit higher in 700 than without growth constraints. "
   ]
  },
  {
   "cell_type": "code",
   "execution_count": 2826,
   "metadata": {},
   "outputs": [
    {
     "data": {
      "text/plain": [
       "<AxesSubplot:title={'center':'Westeros Energy System Activity'}, xlabel='Year', ylabel='GWa'>"
      ]
     },
     "execution_count": 2826,
     "metadata": {},
     "output_type": "execute_result"
    },
    {
     "data": {
      "image/png": "[encoded data removed]",
      "text/plain": [
       "<Figure size 432x288 with 1 Axes>"
      ]
     },
     "metadata": {
      "needs_background": "light"
     },
     "output_type": "display_data"
    }
   ],
   "source": [
    "rep.set_filters(t=[\"coal_ppl\", \"wind_ppl\"])\n",
    "rep.get(\"plot activity\")"
   ]
  },
  {
   "cell_type": "markdown",
   "metadata": {},
   "source": [
    "Setting the growth capacity to **100%** leads to a total usage of LED in 700. In 710 there is still a very small part covered by bulbs. The constraint to this lies in the 10% initial activity up assumption. Coal and wind power behave in the same way as without growth constraints which is expected."
   ]
  },
  {
   "cell_type": "code",
   "execution_count": 2827,
   "metadata": {},
   "outputs": [
    {
     "name": "stdout",
     "output_type": "stream",
     "text": [
      "478485.5625\n"
     ]
    }
   ],
   "source": [
    "maximal_diffusion_LED = 1  # 100%\n",
    "scenario_5 = run_diffusion_constraints(maximal_diffusion_LED, initial_LED_activity)"
   ]
  },
  {
   "cell_type": "code",
   "execution_count": 2828,
   "metadata": {},
   "outputs": [],
   "source": [
    "rep = Reporter.from_scenario(scenario_5)\n",
    "prepare_plots(rep)"
   ]
  },
  {
   "cell_type": "code",
   "execution_count": 2829,
   "metadata": {},
   "outputs": [
    {
     "data": {
      "text/plain": [
       "<AxesSubplot:title={'center':'Westeros Energy System Activity'}, xlabel='Year', ylabel='GWa'>"
      ]
     },
     "execution_count": 2829,
     "metadata": {},
     "output_type": "execute_result"
    },
    {
     "data": {
      "image/png": "[encoded data removed]",
      "text/plain": [
       "<Figure size 432x288 with 1 Axes>"
      ]
     },
     "metadata": {
      "needs_background": "light"
     },
     "output_type": "display_data"
    }
   ],
   "source": [
    "rep.set_filters(t=[\"bulb\", \"LED\"])\n",
    "rep.get(\"plot activity\")"
   ]
  },
  {
   "cell_type": "code",
   "execution_count": 2830,
   "metadata": {},
   "outputs": [
    {
     "data": {
      "text/plain": [
       "<AxesSubplot:title={'center':'Westeros Energy System Activity'}, xlabel='Year', ylabel='GWa'>"
      ]
     },
     "execution_count": 2830,
     "metadata": {},
     "output_type": "execute_result"
    },
    {
     "data": {
      "image/png": "[encoded data removed]",
      "text/plain": [
       "<Figure size 432x288 with 1 Axes>"
      ]
     },
     "metadata": {
      "needs_background": "light"
     },
     "output_type": "display_data"
    }
   ],
   "source": [
    "rep.set_filters(t=[\"coal_ppl\", \"wind_ppl\"])\n",
    "rep.get(\"plot activity\")"
   ]
  },
  {
   "cell_type": "markdown",
   "metadata": {},
   "source": [
    "## Conclusion\n",
    "\n",
    "When implementing the LED the efficiency of the technology has an immense impact on the results as it directly correlates to the overal need of electricity. In order to \"force\" the model to still use light bulbs the prices for LED must be extremely high.\n",
    "\n",
    "With rising CO2 prices the model first installs Windpower instead of buying LED which is related to the high investment costs, set for LED. When CO2 prices rise above a certain threshold and the system can not provide enough energy solely by wind, LEDs are being bought to reduce the demand. The lower demand is then covered entirely by wind power. In the last decade the model is able to provide 100% of the electricity with wind power plants, thus only bulbs are used in 720. \n",
    "\n",
    "When implementing diffusion constraints to the LED technology the coal power plant has to be more active if wind power can not be inreased sufficiently to provide enough electricity. With the existing CO2 prices in this scenario wind power is built as much as possible. Therefore we don't see a change in wind capacity depending on the diffusion rate of LED. "
   ]
  },
  {
   "cell_type": "code",
   "execution_count": 2831,
   "metadata": {
    "pycharm": {
     "name": "#%%\n"
    },
    "slideshow": {
     "slide_type": "skip"
    }
   },
   "outputs": [],
   "source": [
    "mp.close_db()"
   ]
  },
  {
   "cell_type": "markdown",
   "metadata": {},
   "source": [
    "## References\n",
    "\n",
    "[1] Daniel Huppmann, Matthew Gidden, Oliver Fricko, Peter Kolp, Clara Orthofer, Michael Pimmer, Nikolay Kushin, Adriano Vinca, Alessio Mastrucci, Keywan Riahi, and Volker Krey.\n",
    "“The MESSAGEix Integrated Assessment Model and the ix modeling platform”.\n",
    "Environmental Modelling & Software 112:143-156, 2019.\n",
    "doi: 10.1016/j.envsoft.2018.11.012 [Titel anhand dieser DOI in Citavi-Projekt übernehmen]\n",
    "electronic pre-print available at pure.iiasa.ac.at/15157/.\n"
   ]
  },
  {
   "cell_type": "markdown",
   "metadata": {},
   "source": [
    "## License\n",
    "\n",
    "   [<img style=\"float: right;\" src=\"https://img.shields.io/badge/License-Apache%202.0-blue.svg\">](https://opensource.org/licenses/Apache-2.0)\n",
    "\n",
    "   Copyright 2022 Philipp Mascherbauer\n",
    "\n",
    "   Licensed under the Apache License, Version 2.0 (the \"License\");\n",
    "   you may not use this file except in compliance with the License.\n",
    "   You may obtain a copy of the License at\n",
    "\n",
    "     http://www.apache.org/licenses/LICENSE-2.0\n",
    "\n",
    "   Unless required by applicable law or agreed to in writing, software\n",
    "   distributed under the License is distributed on an \"AS IS\" BASIS,\n",
    "   WITHOUT WARRANTIES OR CONDITIONS OF ANY KIND, either express or implied.\n",
    "   See the License for the specific language governing permissions and\n",
    "   limitations under the License."
   ]
  }
 ],
 "metadata": {
  "anaconda-cloud": {},
  "kernelspec": {
   "display_name": "Python 3 (ipykernel)",
   "language": "python",
   "name": "python3"
  },
  "language_info": {
   "codemirror_mode": {
    "name": "ipython",
    "version": 3
   },
   "file_extension": ".py",
   "mimetype": "text/x-python",
   "name": "python",
   "nbconvert_exporter": "python",
   "pygments_lexer": "ipython3",
   "version": "3.10.4"
  }
 },
 "nbformat": 4,
 "nbformat_minor": 2
}
